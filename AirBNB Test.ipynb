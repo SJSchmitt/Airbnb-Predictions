{
 "cells": [
  {
   "cell_type": "code",
   "execution_count": 2,
   "id": "4ab06ae9",
   "metadata": {},
   "outputs": [],
   "source": [
    "import pandas as pd"
   ]
  },
  {
   "cell_type": "code",
   "execution_count": 5,
   "id": "09fd10db",
   "metadata": {},
   "outputs": [
    {
     "data": {
      "text/plain": [
       "0         $60.00\n",
       "1        $282.00\n",
       "2        $348.00\n",
       "3        $368.00\n",
       "4        $264.00\n",
       "          ...   \n",
       "10930    $228.00\n",
       "10931    $168.00\n",
       "10932    $500.00\n",
       "10933     $67.00\n",
       "10934     $88.00\n",
       "Name: price, Length: 10935, dtype: object"
      ]
     },
     "execution_count": 5,
     "metadata": {},
     "output_type": "execute_result"
    }
   ],
   "source": [
    "df = pd.read_csv('Resources/Airbnb_Spring_listings.csv.gz', compression='gzip')\n",
    "df[\"price\"]"
   ]
  },
  {
   "cell_type": "code",
   "execution_count": 14,
   "id": "fae02975",
   "metadata": {},
   "outputs": [
    {
     "data": {
      "text/plain": [
       "0        We love living part of the year in San Diego. ...\n",
       "1        Hello Future and Returning Friends!   It is so...\n",
       "2        I am a Brazilian expat that made San Diego hom...\n",
       "3        I am a Brazilian expat that made San Diego hom...\n",
       "4        As a  La Jolla native, I have seen many change...\n",
       "                               ...                        \n",
       "14183                                                  NaN\n",
       "14184    Stubbs Vacation Beach Homes. View all of our l...\n",
       "14185            Viajero y coleccionista de experiencias\\n\n",
       "14186                                                  NaN\n",
       "14187    I'm an artist who works primarily in watercolo...\n",
       "Name: host_about, Length: 14188, dtype: object"
      ]
     },
     "execution_count": 14,
     "metadata": {},
     "output_type": "execute_result"
    }
   ],
   "source": [
    "df.host_about"
   ]
  },
  {
   "cell_type": "code",
   "execution_count": 15,
   "id": "5048324f",
   "metadata": {},
   "outputs": [
    {
     "name": "stdout",
     "output_type": "stream",
     "text": [
      "id\n",
      "listing_url\n",
      "scrape_id\n",
      "last_scraped\n",
      "source\n",
      "name\n",
      "description\n",
      "neighborhood_overview\n",
      "picture_url\n",
      "host_id\n",
      "host_url\n",
      "host_name\n",
      "host_since\n",
      "host_location\n",
      "host_about\n",
      "host_response_time\n",
      "host_response_rate\n",
      "host_acceptance_rate\n",
      "host_is_superhost\n",
      "host_thumbnail_url\n",
      "host_picture_url\n",
      "host_neighbourhood\n",
      "host_listings_count\n",
      "host_total_listings_count\n",
      "host_verifications\n",
      "host_has_profile_pic\n",
      "host_identity_verified\n",
      "neighbourhood\n",
      "neighbourhood_cleansed\n",
      "neighbourhood_group_cleansed\n",
      "latitude\n",
      "longitude\n",
      "property_type\n",
      "room_type\n",
      "accommodates\n",
      "bathrooms\n",
      "bathrooms_text\n",
      "bedrooms\n",
      "beds\n",
      "amenities\n",
      "price\n",
      "minimum_nights\n",
      "maximum_nights\n",
      "minimum_minimum_nights\n",
      "maximum_minimum_nights\n",
      "minimum_maximum_nights\n",
      "maximum_maximum_nights\n",
      "minimum_nights_avg_ntm\n",
      "maximum_nights_avg_ntm\n",
      "calendar_updated\n",
      "has_availability\n",
      "availability_30\n",
      "availability_60\n",
      "availability_90\n",
      "availability_365\n",
      "calendar_last_scraped\n",
      "number_of_reviews\n",
      "number_of_reviews_ltm\n",
      "number_of_reviews_l30d\n",
      "first_review\n",
      "last_review\n",
      "review_scores_rating\n",
      "review_scores_accuracy\n",
      "review_scores_cleanliness\n",
      "review_scores_checkin\n",
      "review_scores_communication\n",
      "review_scores_location\n",
      "review_scores_value\n",
      "license\n",
      "instant_bookable\n",
      "calculated_host_listings_count\n",
      "calculated_host_listings_count_entire_homes\n",
      "calculated_host_listings_count_private_rooms\n",
      "calculated_host_listings_count_shared_rooms\n",
      "reviews_per_month\n"
     ]
    }
   ],
   "source": [
    "for column in df.columns:\n",
    "    print(column)"
   ]
  },
  {
   "cell_type": "code",
   "execution_count": 16,
   "id": "37338f46",
   "metadata": {},
   "outputs": [
    {
     "data": {
      "text/plain": [
       "Vacasa California     563\n",
       "John                  232\n",
       "Surf Style            131\n",
       "Jesse                  99\n",
       "Michael                98\n",
       "                     ... \n",
       "Praneel                 1\n",
       "Lex                     1\n",
       "Maxwell                 1\n",
       "Elisabeth And Adam      1\n",
       "Afrah                   1\n",
       "Name: host_name, Length: 2953, dtype: int64"
      ]
     },
     "execution_count": 16,
     "metadata": {},
     "output_type": "execute_result"
    }
   ],
   "source": [
    "df.host_name.value_counts()"
   ]
  },
  {
   "cell_type": "code",
   "execution_count": 17,
   "id": "5e376376",
   "metadata": {},
   "outputs": [
    {
     "data": {
      "text/plain": [
       "(14188, 75)"
      ]
     },
     "execution_count": 17,
     "metadata": {},
     "output_type": "execute_result"
    }
   ],
   "source": [
    "df.shape"
   ]
  }
 ],
 "metadata": {
  "kernelspec": {
   "display_name": "mlenv",
   "language": "python",
   "name": "mlenv"
  },
  "language_info": {
   "codemirror_mode": {
    "name": "ipython",
    "version": 3
   },
   "file_extension": ".py",
   "mimetype": "text/x-python",
   "name": "python",
   "nbconvert_exporter": "python",
   "pygments_lexer": "ipython3",
   "version": "3.7.13"
  }
 },
 "nbformat": 4,
 "nbformat_minor": 5
}
