{
 "cells": [
  {
   "cell_type": "code",
   "execution_count": 6,
   "id": "c946d7ef",
   "metadata": {},
   "outputs": [],
   "source": [
    "import pandas as pd\n",
    "import matplotlib.pyplot as plt"
   ]
  },
  {
   "cell_type": "code",
   "execution_count": 4,
   "id": "89e55d65",
   "metadata": {},
   "outputs": [
    {
     "data": {
      "text/html": [
       "<div>\n",
       "<style scoped>\n",
       "    .dataframe tbody tr th:only-of-type {\n",
       "        vertical-align: middle;\n",
       "    }\n",
       "\n",
       "    .dataframe tbody tr th {\n",
       "        vertical-align: top;\n",
       "    }\n",
       "\n",
       "    .dataframe thead th {\n",
       "        text-align: right;\n",
       "    }\n",
       "</style>\n",
       "<table border=\"1\" class=\"dataframe\">\n",
       "  <thead>\n",
       "    <tr style=\"text-align: right;\">\n",
       "      <th></th>\n",
       "      <th>id</th>\n",
       "      <th>price</th>\n",
       "      <th>room_type</th>\n",
       "      <th>accommodates</th>\n",
       "      <th>longitude</th>\n",
       "      <th>latitude</th>\n",
       "      <th>property_type</th>\n",
       "      <th>availability_90</th>\n",
       "      <th>minimum_nights</th>\n",
       "      <th>host_listings_count</th>\n",
       "      <th>...</th>\n",
       "      <th>review_scores_communication</th>\n",
       "      <th>review_scores_location</th>\n",
       "      <th>review_scores_value</th>\n",
       "      <th>bathrooms</th>\n",
       "      <th>license</th>\n",
       "      <th>host_name</th>\n",
       "      <th>listing_url</th>\n",
       "      <th>beds</th>\n",
       "      <th>bedrooms</th>\n",
       "      <th>neighbourhood_cleansed</th>\n",
       "    </tr>\n",
       "  </thead>\n",
       "  <tbody>\n",
       "    <tr>\n",
       "      <th>0</th>\n",
       "      <td>29967</td>\n",
       "      <td>225</td>\n",
       "      <td>Entire home/apt</td>\n",
       "      <td>8</td>\n",
       "      <td>-117.25760</td>\n",
       "      <td>32.80751</td>\n",
       "      <td>Entire bungalow</td>\n",
       "      <td>6</td>\n",
       "      <td>4</td>\n",
       "      <td>5</td>\n",
       "      <td>...</td>\n",
       "      <td>4.91</td>\n",
       "      <td>4.80</td>\n",
       "      <td>4.76</td>\n",
       "      <td>2.0</td>\n",
       "      <td>No License</td>\n",
       "      <td>Michael</td>\n",
       "      <td>https://www.airbnb.com/rooms/29967</td>\n",
       "      <td>3</td>\n",
       "      <td>2</td>\n",
       "      <td>Pacific Beach</td>\n",
       "    </tr>\n",
       "    <tr>\n",
       "      <th>1</th>\n",
       "      <td>38245</td>\n",
       "      <td>113</td>\n",
       "      <td>Private room</td>\n",
       "      <td>1</td>\n",
       "      <td>-117.21931</td>\n",
       "      <td>32.74217</td>\n",
       "      <td>Private room in home</td>\n",
       "      <td>54</td>\n",
       "      <td>1</td>\n",
       "      <td>3</td>\n",
       "      <td>...</td>\n",
       "      <td>4.79</td>\n",
       "      <td>4.61</td>\n",
       "      <td>4.40</td>\n",
       "      <td>1.0</td>\n",
       "      <td>No License</td>\n",
       "      <td>Melinda</td>\n",
       "      <td>https://www.airbnb.com/rooms/38245</td>\n",
       "      <td>1</td>\n",
       "      <td>1</td>\n",
       "      <td>Roseville</td>\n",
       "    </tr>\n",
       "    <tr>\n",
       "      <th>2</th>\n",
       "      <td>108349</td>\n",
       "      <td>258</td>\n",
       "      <td>Entire home/apt</td>\n",
       "      <td>7</td>\n",
       "      <td>-117.25416</td>\n",
       "      <td>32.79783</td>\n",
       "      <td>Entire townhouse</td>\n",
       "      <td>0</td>\n",
       "      <td>6</td>\n",
       "      <td>2</td>\n",
       "      <td>...</td>\n",
       "      <td>4.81</td>\n",
       "      <td>4.89</td>\n",
       "      <td>4.69</td>\n",
       "      <td>2.5</td>\n",
       "      <td>No License</td>\n",
       "      <td>Juliana</td>\n",
       "      <td>https://www.airbnb.com/rooms/108349</td>\n",
       "      <td>5</td>\n",
       "      <td>3</td>\n",
       "      <td>Pacific Beach</td>\n",
       "    </tr>\n",
       "    <tr>\n",
       "      <th>3</th>\n",
       "      <td>126344</td>\n",
       "      <td>336</td>\n",
       "      <td>Entire home/apt</td>\n",
       "      <td>8</td>\n",
       "      <td>-117.25728</td>\n",
       "      <td>32.80751</td>\n",
       "      <td>Entire home</td>\n",
       "      <td>44</td>\n",
       "      <td>6</td>\n",
       "      <td>2</td>\n",
       "      <td>...</td>\n",
       "      <td>4.81</td>\n",
       "      <td>4.78</td>\n",
       "      <td>4.65</td>\n",
       "      <td>2.0</td>\n",
       "      <td>No License</td>\n",
       "      <td>Juliana</td>\n",
       "      <td>https://www.airbnb.com/rooms/126344</td>\n",
       "      <td>6</td>\n",
       "      <td>3</td>\n",
       "      <td>Pacific Beach</td>\n",
       "    </tr>\n",
       "    <tr>\n",
       "      <th>4</th>\n",
       "      <td>54001</td>\n",
       "      <td>333</td>\n",
       "      <td>Entire home/apt</td>\n",
       "      <td>3</td>\n",
       "      <td>-117.26856</td>\n",
       "      <td>32.81301</td>\n",
       "      <td>Entire guesthouse</td>\n",
       "      <td>42</td>\n",
       "      <td>5</td>\n",
       "      <td>2</td>\n",
       "      <td>...</td>\n",
       "      <td>4.98</td>\n",
       "      <td>4.97</td>\n",
       "      <td>4.89</td>\n",
       "      <td>1.0</td>\n",
       "      <td>No License</td>\n",
       "      <td>Marsha</td>\n",
       "      <td>https://www.airbnb.com/rooms/54001</td>\n",
       "      <td>3</td>\n",
       "      <td>2</td>\n",
       "      <td>La Jolla</td>\n",
       "    </tr>\n",
       "  </tbody>\n",
       "</table>\n",
       "<p>5 rows × 24 columns</p>\n",
       "</div>"
      ],
      "text/plain": [
       "       id  price        room_type  accommodates  longitude  latitude  \\\n",
       "0   29967    225  Entire home/apt             8 -117.25760  32.80751   \n",
       "1   38245    113     Private room             1 -117.21931  32.74217   \n",
       "2  108349    258  Entire home/apt             7 -117.25416  32.79783   \n",
       "3  126344    336  Entire home/apt             8 -117.25728  32.80751   \n",
       "4   54001    333  Entire home/apt             3 -117.26856  32.81301   \n",
       "\n",
       "          property_type  availability_90  minimum_nights  host_listings_count  \\\n",
       "0       Entire bungalow                6               4                    5   \n",
       "1  Private room in home               54               1                    3   \n",
       "2      Entire townhouse                0               6                    2   \n",
       "3           Entire home               44               6                    2   \n",
       "4     Entire guesthouse               42               5                    2   \n",
       "\n",
       "   ...  review_scores_communication  review_scores_location  \\\n",
       "0  ...                         4.91                    4.80   \n",
       "1  ...                         4.79                    4.61   \n",
       "2  ...                         4.81                    4.89   \n",
       "3  ...                         4.81                    4.78   \n",
       "4  ...                         4.98                    4.97   \n",
       "\n",
       "   review_scores_value  bathrooms     license  host_name  \\\n",
       "0                 4.76        2.0  No License    Michael   \n",
       "1                 4.40        1.0  No License    Melinda   \n",
       "2                 4.69        2.5  No License    Juliana   \n",
       "3                 4.65        2.0  No License    Juliana   \n",
       "4                 4.89        1.0  No License     Marsha   \n",
       "\n",
       "                           listing_url  beds bedrooms neighbourhood_cleansed  \n",
       "0   https://www.airbnb.com/rooms/29967     3        2          Pacific Beach  \n",
       "1   https://www.airbnb.com/rooms/38245     1        1              Roseville  \n",
       "2  https://www.airbnb.com/rooms/108349     5        3          Pacific Beach  \n",
       "3  https://www.airbnb.com/rooms/126344     6        3          Pacific Beach  \n",
       "4   https://www.airbnb.com/rooms/54001     3        2               La Jolla  \n",
       "\n",
       "[5 rows x 24 columns]"
      ]
     },
     "execution_count": 4,
     "metadata": {},
     "output_type": "execute_result"
    }
   ],
   "source": [
    "df = pd.read_csv('static/resources/airbnb_fall_full.csv')\n",
    "df.head()"
   ]
  },
  {
   "cell_type": "code",
   "execution_count": 24,
   "id": "13fa15d0",
   "metadata": {},
   "outputs": [],
   "source": [
    "avg_prices_by_acc = df.price.groupby(df['accommodates']).mean()\n",
    "acc_counts = df.accommodates.value_counts()"
   ]
  },
  {
   "cell_type": "code",
   "execution_count": 26,
   "id": "61edceeb",
   "metadata": {},
   "outputs": [
    {
     "data": {
      "image/png": "[encoded data removed]",
      "text/plain": [
       "<Figure size 432x288 with 2 Axes>"
      ]
     },
     "metadata": {
      "needs_background": "light"
     },
     "output_type": "display_data"
    }
   ],
   "source": [
    "fig, ax1 = plt.subplots()\n",
    "ax1.bar(range(1,17), acc_counts, linewidth=0.5, edgecolor=\"white\")\n",
    "ax1.set_title('Listings and Price by Guests')\n",
    "ax1.set_xlabel('Guests Allowed')\n",
    "ax1.set_ylabel('Number of Listings')\n",
    "\n",
    "ax2 = ax1.twinx()\n",
    "ax2.scatter(range(1,17), avg_prices_by_acc, color='orange')\n",
    "ax2.set_ylabel('Average Price/Night ($)')\n",
    "plt.show()"
   ]
  },
  {
   "cell_type": "code",
   "execution_count": 35,
   "id": "b5539e2d",
   "metadata": {},
   "outputs": [],
   "source": [
    "price_type = df.price.groupby(df['room_type']).mean()\n",
    "rooms = df.room_type.unique()\n",
    "listing_type = df.price.groupby(df['room_type']).count()\n",
    "acc_type = df.accommodates.groupby(df['room_type']).mean()\n",
    "review_type = df.review_scores_rating.groupby(df['room_type']).mean()"
   ]
  },
  {
   "cell_type": "code",
   "execution_count": 39,
   "id": "157d0907",
   "metadata": {},
   "outputs": [
    {
     "data": {
      "image/png": "[encoded data removed]",
      "text/plain": [
       "<Figure size 432x288 with 4 Axes>"
      ]
     },
     "metadata": {
      "needs_background": "light"
     },
     "output_type": "display_data"
    }
   ],
   "source": [
    "fig, ax = plt.subplots(2, 2)\n",
    "\n",
    "ax[0,0].bar(rooms, price_type)\n",
    "ax[0,0].set_title('Price by Room Type')\n",
    "\n",
    "ax[0,1].bar(rooms, listing_type)\n",
    "ax[0,1].set_title('Listings by Room Type')\n",
    "                  \n",
    "ax[1,0].bar(rooms, acc_type)\n",
    "ax[1,0].set_title('Guests by Room Type')\n",
    "                  \n",
    "ax[1,1].bar(rooms, review_type)\n",
    "ax[1,1].set_title('Ratings by Room Type')\n",
    "\n",
    "plt.show()"
   ]
  },
  {
   "cell_type": "code",
   "execution_count": 73,
   "id": "b068b968",
   "metadata": {},
   "outputs": [
    {
     "data": {
      "text/plain": [
       "host_name\n",
       "'Elia                    4.880\n",
       "(Hidden by Airbnb) ie    5.000\n",
       "711 Island Court         4.480\n",
       "8 West                   4.778\n",
       "A                        4.950\n",
       "                         ...  \n",
       "Zoey                     4.830\n",
       "Zsa Zsa                  4.960\n",
       "Zubin                    4.765\n",
       "Zuffina                  5.000\n",
       "Ñora                     5.000\n",
       "Name: review_scores_rating, Length: 2938, dtype: float64"
      ]
     },
     "execution_count": 73,
     "metadata": {},
     "output_type": "execute_result"
    }
   ],
   "source": [
    "hosts = df.host_name.value_counts()[0:10]\n",
    "hosts.index\n",
    "\n",
    "host_ratings = df.review_scores_rating.groupby(df['host_name']).mean()\n",
    "host_ratings"
   ]
  },
  {
   "cell_type": "code",
   "execution_count": 72,
   "id": "f6972427",
   "metadata": {},
   "outputs": [
    {
     "data": {
      "image/png": "[encoded data removed]",
      "text/plain": [
       "<Figure size 720x504 with 2 Axes>"
      ]
     },
     "metadata": {
      "needs_background": "light"
     },
     "output_type": "display_data"
    }
   ],
   "source": [
    "fig, ax = plt.subplots(1,2,figsize=(10,7))\n",
    "\n",
    "ax.barh(hosts.index, hosts)\n",
    "ax.set_title('Top 10 Hosts by Listings')\n",
    "ax.set_xlabel('Number of Listings')\n",
    "\n",
    "plt.gca().invert_yaxis()"
   ]
  },
  {
   "cell_type": "code",
   "execution_count": null,
   "id": "c1b58f25",
   "metadata": {},
   "outputs": [],
   "source": []
  }
 ],
 "metadata": {
  "kernelspec": {
   "display_name": "mlenv",
   "language": "python",
   "name": "mlenv"
  },
  "language_info": {
   "codemirror_mode": {
    "name": "ipython",
    "version": 3
   },
   "file_extension": ".py",
   "mimetype": "text/x-python",
   "name": "python",
   "nbconvert_exporter": "python",
   "pygments_lexer": "ipython3",
   "version": "3.7.13"
  }
 },
 "nbformat": 4,
 "nbformat_minor": 5
}
